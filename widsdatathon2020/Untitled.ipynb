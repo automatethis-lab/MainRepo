{
 "cells": [
  {
   "cell_type": "code",
   "execution_count": 2,
   "metadata": {},
   "outputs": [],
   "source": [
    "import os\n",
    "import numpy as np \n",
    "import pandas as pd # data processing, CSV file I/O (e.g. pd.read_csv)\n",
    "from catboost import Pool, cv, CatBoostClassifier, CatBoostRegressor\n",
    "from sklearn.metrics import mean_squared_error, classification_report\n",
    "from sklearn.preprocessing import LabelEncoder\n",
    "from sklearn.model_selection import train_test_split\n",
    "import lightgbm as lgb\n",
    "import gc\n",
    "import matplotlib.pyplot as plt\n",
    "import seaborn as sns\n",
    "from sklearn import metrics"
   ]
  },
  {
   "cell_type": "code",
   "execution_count": null,
   "metadata": {},
   "outputs": [],
   "source": [
    "def run_basic_catboost (X_train, y_train):\n",
    "    train_pool = Pool(data=X_train,label = y_train,cat_features=categorical_cols,)\n",
    "    model_basic = CatBoostClassifier(verbose=False,iterations=99,learning_rate=0.1, task_type=\"GPU\",)\n",
    "    model_basic.fit(train_pool, plot=True,silent=True, early_stopping_rounds=400)\n",
    "    print(model_basic.get_best_score())"
   ]
  },
  {
   "cell_type": "code",
   "execution_count": null,
   "metadata": {},
   "outputs": [],
   "source": [
    "def run_gridsearch_catboost (X_train, y_train):\n",
    "    grid = {'learning_rate': [0.01, 0.05, 0.12, 0.2],\n",
    "        'depth': [2,4, 6, 10],\n",
    "        'l2_leaf_reg': [1, 3,9],\n",
    "        \"iterations\": [50000],\n",
    "       \"custom_metric\":[ 'AUC'],\n",
    "       'task_type': [\"GPU\"],\n",
    "       'early_stopping_rounds': [400]}\n",
    "#'Logloss',\n",
    "    model = CatBoostClassifier()\n",
    "\n",
    "    ## can also do randomized search - more efficient typically, especially for large search space - `randomized_search`\n",
    "    grid_search_result = model.grid_search(grid, \n",
    "                                           train_pool,\n",
    "                                           plot=True,\n",
    "                                           refit = True, #  refit best model on all data\n",
    "                                          partition_random_seed=42,\n",
    "                                          )\n",
    "\n",
    "    print(model.get_best_score())\n",
    "    print(\"best model params: \\n\",grid_search_result[\"params\"])\n",
    "    return model"
   ]
  },
  {
   "cell_type": "code",
   "execution_count": null,
   "metadata": {},
   "outputs": [],
   "source": [
    "def run_predictions(model)"
   ]
  },
  {
   "cell_type": "code",
   "execution_count": null,
   "metadata": {},
   "outputs": [],
   "source": [
    "TARGET_COL = \"hospital_death\"\n",
    "df = pd.read_csv(r\".\\input\\training_v2.csv\")\n",
    "test = pd.read_csv(r\".\\input\\unlabeled.csv\")\n",
    "categorical_cols =  ['hospital_id',\n",
    "                     'ethnicity', 'gender', 'hospital_admit_source', 'icu_admit_source', 'icu_stay_type',\n",
    "                     'icu_type', 'apache_3j_bodysystem', 'apache_2_bodysystem']"
   ]
  },
  {
   "cell_type": "code",
   "execution_count": null,
   "metadata": {},
   "outputs": [],
   "source": [
    "df[categorical_cols] = df[categorical_cols].fillna(\"\")\n",
    "test[categorical_cols] = test[categorical_cols].fillna(\"\")\n",
    "X_train = df.drop([TARGET_COL],axis=1)\n",
    "y_train = df[TARGET_COL]\n"
   ]
  },
  {
   "cell_type": "code",
   "execution_count": null,
   "metadata": {},
   "outputs": [],
   "source": []
  }
 ],
 "metadata": {
  "kernelspec": {
   "display_name": "Python 3",
   "language": "python",
   "name": "python3"
  },
  "language_info": {
   "codemirror_mode": {
    "name": "ipython",
    "version": 3
   },
   "file_extension": ".py",
   "mimetype": "text/x-python",
   "name": "python",
   "nbconvert_exporter": "python",
   "pygments_lexer": "ipython3",
   "version": "3.7.3"
  }
 },
 "nbformat": 4,
 "nbformat_minor": 2
}
